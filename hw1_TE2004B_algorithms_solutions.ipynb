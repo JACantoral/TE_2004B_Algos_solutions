{
 "cells": [
  {
   "cell_type": "markdown",
   "id": "5880d511",
   "metadata": {},
   "source": [
    "##  TE2004B\n",
    "### Algorithms AD2023\n",
    "### Recursion revision\n",
    "Objetive: \n",
    "- **To review recursive algorithms.**\n",
    "\n",
    "Instructions:\n",
    "- **Submission: This activity requires submission in teams of 3 or 4 members. Submissions from smaller or larger teams will not be accepted unless prior approval has been granted. While teamwork is encouraged, each member is expected to contribute individually to the assignment. The final submission should feature the best arguments and solutions from each team member. Only one person per team needs to submit the completed work, but it is imperative that the names of all team members are listed in a Markdown cell at the very beginning of the notebook (either the first or second cell). Failure to include all team member names will result in the grade being awarded solely to the individual who submitted the assignment, with zero points given to other team members. No exceptions will be made to this rule.**\n",
    "<br><br>\n",
    "- **Code and test the following algorithms, you may use the provided test array or any other. They have to be implemented recursively, otherwise no marks will be assigned. You may asumme that your algorithms will only work with positive integers.**\n",
    "<br><br>\n",
    "- **Note: The array is only for use in the recursive sum and the binary search problems. All the other algorithms should work only with positive integers.**\n",
    "<br><br>\n",
    "- **Submit your Jupyter Notebook with your solutions. You may include include additional photographs of you pen and paper solutions.  Where appropriate, your submission should include well-commented code and Markdown cells that provide a comparison between your solution and the one provided.**"
   ]
  },
  {
   "cell_type": "code",
   "execution_count": 1,
   "id": "997d02c7",
   "metadata": {},
   "outputs": [],
   "source": [
    "import random\n",
    "test_array = [random.randint(0, 100) for _ in range(10)]"
   ]
  },
  {
   "cell_type": "markdown",
   "id": "c02e779b",
   "metadata": {},
   "source": [
    "### Recursive sum"
   ]
  },
  {
   "cell_type": "code",
   "execution_count": null,
   "id": "bad69ff4",
   "metadata": {},
   "outputs": [],
   "source": [
    "def sum_recur(arr):\n",
    "    '''\n",
    "    Sum all the elements of\n",
    "    '''\n",
    "    if len(arr) == 0: return 0\n",
    "    else: return arr[0] + sum_recur(arr[1:])"
   ]
  },
  {
   "cell_type": "markdown",
   "id": "d74a3e5f",
   "metadata": {},
   "source": [
    "### Recusive multiplication"
   ]
  },
  {
   "cell_type": "code",
   "execution_count": null,
   "id": "05fbdc3e",
   "metadata": {},
   "outputs": [],
   "source": [
    "def mult_recur(a, b):\n",
    "    if b == 1: return a\n",
    "    elif b == 0 or a == 0: return 0\n",
    "    else: \n",
    "        if b < 0 and a > 0:\n",
    "            return b + mult_recur(b, a-1)\n",
    "        elif b < 0 and a < 0: return abs(a) + mult_recur(abs(a), abs(b)-1)\n",
    "        return a + mult_recur(a, b-1)"
   ]
  },
  {
   "cell_type": "markdown",
   "id": "478a49f1",
   "metadata": {},
   "source": [
    "### Recursive exp"
   ]
  },
  {
   "cell_type": "code",
   "execution_count": null,
   "id": "62c76add",
   "metadata": {},
   "outputs": [],
   "source": [
    "def exp_recursive(a, n):\n",
    "    if n == 0: return 1\n",
    "    else:\n",
    "        aux = a * exp_recursive(a, abs(n)-1)\n",
    "        if n<0: return 1/aux\n",
    "        return aux"
   ]
  },
  {
   "cell_type": "markdown",
   "id": "45b18f9e",
   "metadata": {},
   "source": [
    "### Factorial"
   ]
  },
  {
   "cell_type": "code",
   "execution_count": null,
   "id": "7580ef2c",
   "metadata": {},
   "outputs": [],
   "source": [
    "def factorial1(n):\n",
    "    if n < 2: return 1\n",
    "    else: return n*factorial1(n-1)"
   ]
  },
  {
   "cell_type": "markdown",
   "id": "f4c182c8",
   "metadata": {},
   "source": [
    "### Binary search"
   ]
  },
  {
   "cell_type": "code",
   "execution_count": null,
   "id": "5090965b",
   "metadata": {},
   "outputs": [],
   "source": [
    "def binary_search_recur(a, arr, low=None, high=None):\n",
    "    if low == None:\n",
    "        low = 0\n",
    "        high = len(arr) - 1    \n",
    "    if len(arr) == 0: \n",
    "        return False\n",
    "    elif low == high: \n",
    "        return arr[low] == a\n",
    "    else:\n",
    "        mid = (low + high) // 2\n",
    "        if arr[mid] == a: \n",
    "            return True\n",
    "        if arr[mid] > a:\n",
    "            high = mid\n",
    "        else:\n",
    "            low = mid + 1\n",
    "        return binary_search_recur(a, arr, low, high)   "
   ]
  },
  {
   "cell_type": "markdown",
   "id": "6ca63cb7",
   "metadata": {},
   "source": [
    "### Greatest Common Divisor"
   ]
  },
  {
   "cell_type": "code",
   "execution_count": null,
   "id": "6fddbb97",
   "metadata": {},
   "outputs": [],
   "source": [
    "def gcd(a, b):\n",
    "    if a%b == 0: return b\n",
    "    else: return gcd(b, a%b)"
   ]
  },
  {
   "cell_type": "code",
   "execution_count": null,
   "id": "0a1556bf",
   "metadata": {},
   "outputs": [],
   "source": []
  }
 ],
 "metadata": {
  "kernelspec": {
   "display_name": "Python 3 (ipykernel)",
   "language": "python",
   "name": "python3"
  },
  "language_info": {
   "codemirror_mode": {
    "name": "ipython",
    "version": 3
   },
   "file_extension": ".py",
   "mimetype": "text/x-python",
   "name": "python",
   "nbconvert_exporter": "python",
   "pygments_lexer": "ipython3",
   "version": "3.9.0"
  },
  "toc": {
   "base_numbering": 1,
   "nav_menu": {},
   "number_sections": true,
   "sideBar": true,
   "skip_h1_title": false,
   "title_cell": "Table of Contents",
   "title_sidebar": "Contents",
   "toc_cell": false,
   "toc_position": {},
   "toc_section_display": true,
   "toc_window_display": false
  },
  "varInspector": {
   "cols": {
    "lenName": 16,
    "lenType": 16,
    "lenVar": 40
   },
   "kernels_config": {
    "python": {
     "delete_cmd_postfix": "",
     "delete_cmd_prefix": "del ",
     "library": "var_list.py",
     "varRefreshCmd": "print(var_dic_list())"
    },
    "r": {
     "delete_cmd_postfix": ") ",
     "delete_cmd_prefix": "rm(",
     "library": "var_list.r",
     "varRefreshCmd": "cat(var_dic_list()) "
    }
   },
   "types_to_exclude": [
    "module",
    "function",
    "builtin_function_or_method",
    "instance",
    "_Feature"
   ],
   "window_display": false
  }
 },
 "nbformat": 4,
 "nbformat_minor": 5
}
