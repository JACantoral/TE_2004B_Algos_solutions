{
 "cells": [
  {
   "cell_type": "markdown",
   "id": "5880d511",
   "metadata": {},
   "source": [
    "##  TE2004B\n",
    "### Algorithms AD2023\n",
    "### Sorting algorithms revision\n",
    "Objetive: \n",
    "- **To review sorting algorithms.**\n",
    "\n",
    "Instructions:\n",
    "- **Submission: This activity requires submission in teams of 3 or 4 members. Submissions from smaller or larger teams will not be accepted unless prior approval has been granted. While teamwork is encouraged, each member is expected to contribute individually to the assignment. The final submission should feature the best arguments and solutions from each team member. Only one person per team needs to submit the completed work, but it is imperative that the names of all team members are listed in a Markdown cell at the very beginning of the notebook (either the first or second cell). Failure to include all team member names will result in the grade being awarded solely to the individual who submitted the assignment, with zero points given to other team members. No exceptions will be made to this rule.**\n",
    "<br>\n",
    "- **Using pen and paper, solve problems 2.1 to 2.3. Take pictures of your proofs and upload them together with the coding problems.**\n",
    "<br>\n",
    "\n",
    "- **Code and test the algorithms in problems 2.4 to 2.8, you may use the provided test array or any other. You may asumme that your algorithms will only work with positive integers. Add a cell where you compare your algorithm against the provided solution.**\n",
    "<br>\n",
    "- **Submit your Jupyter Notebook with your solutions. You may include include additional photographs of you pen and paper solutions.  Where appropriate, your submission should include well-commented code and Markdown cells that provide a comparison between your solution and the one provided.**"
   ]
  },
  {
   "cell_type": "code",
   "execution_count": 1,
   "id": "997d02c7",
   "metadata": {},
   "outputs": [],
   "source": [
    "import random\n",
    "test_array = [random.randint(0, 100) for _ in range(10)]"
   ]
  },
  {
   "cell_type": "markdown",
   "id": "c02e779b",
   "metadata": {},
   "source": [
    "### 2.1 Proof the following identity using math induction"
   ]
  },
  {
   "cell_type": "markdown",
   "id": "51435060",
   "metadata": {},
   "source": [
    "$$ \\sum_{i=0}^{\\infty}{2^i}\\: = \\: 2^{n+1} \\: - \\: 1$$"
   ]
  },
  {
   "cell_type": "markdown",
   "id": "b899ecf7",
   "metadata": {},
   "source": [
    "### 2.2 Use Math induction to prove that the asymptotic complexity of Merge Sort is:\n",
    "$$O(nlgn)$$\n",
    "hint: instead of proving for $n\\:+\\:1$, show it for $2n$"
   ]
  },
  {
   "cell_type": "markdown",
   "id": "e332dc5e",
   "metadata": {},
   "source": [
    "### 2.3 Starting from a recursive expression (you may assume perfectly balanced partitions), solve the expression to show that in the average case the complexity for Quicksort is:\n",
    "$$O(nlgn)$$"
   ]
  },
  {
   "cell_type": "code",
   "execution_count": 2,
   "id": "bad69ff4",
   "metadata": {},
   "outputs": [
    {
     "name": "stdout",
     "output_type": "stream",
     "text": [
      "[91, 11, 28, 80, 61, 39, 70, 59, 6, 14]\n"
     ]
    }
   ],
   "source": [
    "import random\n",
    "b = [random.randint(0,100) for _ in range(10)]\n",
    "print(b)"
   ]
  },
  {
   "cell_type": "markdown",
   "id": "d74a3e5f",
   "metadata": {},
   "source": [
    "### 2.4 Bubble sort"
   ]
  },
  {
   "cell_type": "code",
   "execution_count": 3,
   "id": "05fbdc3e",
   "metadata": {},
   "outputs": [],
   "source": [
    "def bubble_sort2(arr):\n",
    "    ordered = False\n",
    "    while not ordered:\n",
    "        ordered = True\n",
    "        for i in range(1, len(arr)):\n",
    "            if arr[i-1] > arr[i]:\n",
    "                arr[i-1], arr[i] = arr[i], arr[i-1]\n",
    "                ordered = False\n"
   ]
  },
  {
   "cell_type": "code",
   "execution_count": 4,
   "id": "3f9eac6e",
   "metadata": {},
   "outputs": [
    {
     "name": "stdout",
     "output_type": "stream",
     "text": [
      "[6, 11, 14, 28, 39, 59, 61, 70, 80, 91]\n"
     ]
    }
   ],
   "source": [
    "a = b[:]\n",
    "(bubble_sort2(a))\n",
    "print(a)"
   ]
  },
  {
   "cell_type": "markdown",
   "id": "478a49f1",
   "metadata": {},
   "source": [
    "### 2. 5 Selection sort"
   ]
  },
  {
   "cell_type": "code",
   "execution_count": 5,
   "id": "62c76add",
   "metadata": {},
   "outputs": [],
   "source": [
    "def selection_sort(arr):\n",
    "    sorted_idx = 0\n",
    "\n",
    "    while sorted_idx < len(arr):\n",
    "        for i in range(sorted_idx, len(arr)):\n",
    "            if arr[sorted_idx] > arr[i]:\n",
    "                arr[sorted_idx], arr[i] = arr[i], arr[sorted_idx]\n",
    "        sorted_idx += 1\n"
   ]
  },
  {
   "cell_type": "code",
   "execution_count": 6,
   "id": "fe119799",
   "metadata": {},
   "outputs": [
    {
     "name": "stdout",
     "output_type": "stream",
     "text": [
      "[6, 11, 14, 28, 39, 59, 61, 70, 80, 91]\n"
     ]
    }
   ],
   "source": [
    "a = b[:]\n",
    "(selection_sort(a))\n",
    "print(a)"
   ]
  },
  {
   "cell_type": "markdown",
   "id": "45b18f9e",
   "metadata": {},
   "source": [
    "### 2. 6 Insertion sort"
   ]
  },
  {
   "cell_type": "code",
   "execution_count": 7,
   "id": "7580ef2c",
   "metadata": {},
   "outputs": [],
   "source": [
    "def insertion_sort(arr):\n",
    "    for j in range(1, len(arr)):\n",
    "        #pick a value of the unsorted subarray to start comparing to sorted left subarray\n",
    "        pivot = arr[j]\n",
    "        # get index of previous value to pivot\n",
    "        i = j-1\n",
    "        # repeat until you get to first element of sorted array\n",
    "        while (i > -1) and (arr[i]>pivot):\n",
    "            # if pivot is smaller than previous in ordered array, put that value in position of pivot\n",
    "            arr[i+1] = arr[i]\n",
    "            # move index left \n",
    "            i -= 1\n",
    "            \n",
    "        # assign pivot value to correct index\n",
    "        arr[i+1] = pivot\n",
    "    return arr"
   ]
  },
  {
   "cell_type": "code",
   "execution_count": 13,
   "id": "54185879",
   "metadata": {},
   "outputs": [
    {
     "name": "stdout",
     "output_type": "stream",
     "text": [
      "[6, 11, 14, 28, 39, 59, 61, 70, 80, 91]\n"
     ]
    }
   ],
   "source": [
    "a = b[:]\n",
    "(insertion_sort(a))\n",
    "print(a)"
   ]
  },
  {
   "cell_type": "markdown",
   "id": "f4c182c8",
   "metadata": {},
   "source": [
    "### 2.7 Merge sort"
   ]
  },
  {
   "cell_type": "code",
   "execution_count": 14,
   "id": "5090965b",
   "metadata": {},
   "outputs": [],
   "source": [
    "# merge two sorted lists\n",
    "def merge(list1, list2):\n",
    "    result = []\n",
    "    i, j = 0, 0\n",
    "    while i < len(list1) and j < len(list2): #recall that list1 and list2 are sorted, so this process is basically O(n)\n",
    "        if list1[i] < list2[j]:\n",
    "            result.append(list1[i])\n",
    "            i += 1\n",
    "        else:\n",
    "            result.append(list2[j])\n",
    "            j += 1\n",
    "    if i == len(list1):\n",
    "        for k in range(j,len(list2)): result.append(list2[k])\n",
    "    if j == len(list2):\n",
    "        for k in range(i, len(list1)): result.append(list1[k])\n",
    "    return result\n",
    "\n",
    "def merge_sort(l):\n",
    "    if len(l) < 2:\n",
    "        return l\n",
    "    else:\n",
    "        mid_idx = (len(l))//2\n",
    "        list1 = merge_sort(l[:mid_idx])\n",
    "        list2 = merge_sort(l[mid_idx:])\n",
    "        return merge(list1, list2)"
   ]
  },
  {
   "cell_type": "code",
   "execution_count": 15,
   "id": "bce5ed3a",
   "metadata": {},
   "outputs": [
    {
     "name": "stdout",
     "output_type": "stream",
     "text": [
      "[6, 11, 14, 28, 39, 59, 61, 70, 80, 91]\n"
     ]
    }
   ],
   "source": [
    "a = b[:]\n",
    "s_a = merge_sort(a)\n",
    "print(s_a)"
   ]
  },
  {
   "cell_type": "markdown",
   "id": "6ca63cb7",
   "metadata": {},
   "source": [
    "### 2.8 Quicksort"
   ]
  },
  {
   "cell_type": "code",
   "execution_count": 16,
   "id": "6fddbb97",
   "metadata": {},
   "outputs": [],
   "source": [
    "def quicksort(l):\n",
    "    if len(l) < 2: return l\n",
    "    else:\n",
    "        pivot = l[0]\n",
    "        smaller = [i for i in l[1:] if i <= pivot]\n",
    "        larger = [i for i in l[1:]  if i > pivot]\n",
    "        return quicksort(smaller) + [pivot] + quicksort(larger)\n",
    "    "
   ]
  },
  {
   "cell_type": "code",
   "execution_count": 17,
   "id": "0a1556bf",
   "metadata": {},
   "outputs": [
    {
     "name": "stdout",
     "output_type": "stream",
     "text": [
      "[6, 11, 14, 28, 39, 59, 61, 70, 80, 91]\n"
     ]
    }
   ],
   "source": [
    "a = b[:]\n",
    "s_a = quicksort(a)\n",
    "print(s_a)"
   ]
  },
  {
   "cell_type": "code",
   "execution_count": null,
   "id": "3d0a661b",
   "metadata": {},
   "outputs": [],
   "source": []
  }
 ],
 "metadata": {
  "kernelspec": {
   "display_name": "Python 3 (ipykernel)",
   "language": "python",
   "name": "python3"
  },
  "language_info": {
   "codemirror_mode": {
    "name": "ipython",
    "version": 3
   },
   "file_extension": ".py",
   "mimetype": "text/x-python",
   "name": "python",
   "nbconvert_exporter": "python",
   "pygments_lexer": "ipython3",
   "version": "3.9.0"
  },
  "toc": {
   "base_numbering": 1,
   "nav_menu": {},
   "number_sections": true,
   "sideBar": true,
   "skip_h1_title": false,
   "title_cell": "Table of Contents",
   "title_sidebar": "Contents",
   "toc_cell": false,
   "toc_position": {},
   "toc_section_display": true,
   "toc_window_display": false
  },
  "varInspector": {
   "cols": {
    "lenName": 16,
    "lenType": 16,
    "lenVar": 40
   },
   "kernels_config": {
    "python": {
     "delete_cmd_postfix": "",
     "delete_cmd_prefix": "del ",
     "library": "var_list.py",
     "varRefreshCmd": "print(var_dic_list())"
    },
    "r": {
     "delete_cmd_postfix": ") ",
     "delete_cmd_prefix": "rm(",
     "library": "var_list.r",
     "varRefreshCmd": "cat(var_dic_list()) "
    }
   },
   "types_to_exclude": [
    "module",
    "function",
    "builtin_function_or_method",
    "instance",
    "_Feature"
   ],
   "window_display": false
  }
 },
 "nbformat": 4,
 "nbformat_minor": 5
}
