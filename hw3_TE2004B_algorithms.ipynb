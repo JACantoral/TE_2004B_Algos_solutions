{
 "cells": [
  {
   "cell_type": "markdown",
   "id": "538142fd",
   "metadata": {},
   "source": [
    "## TE2004B\n",
    "## Algorithms AD2023\n",
    "## Backtracking and Graphs\n",
    "Objetives: \n",
    "- **To study backtracking by solving the N-Queen problem.**\n",
    "- **To review and study graphs.**\n",
    "- **To code the fundamental Algorithms of DFS and BFS.**\n",
    "\n",
    "- **Submission: This activity requires submission in teams of 3 or 4 members. Submissions from smaller or larger teams will not be accepted unless prior approval has been granted. While teamwork is encouraged, each member is expected to contribute individually to the assignment. The final submission should feature the best arguments and solutions from each team member. Only one person per team needs to submit the completed work, but it is imperative that the names of all team members are listed in a Markdown cell at the very beginning of the notebook (either the first or second cell). Failure to include all team member names will result in the grade being awarded solely to the individual who submitted the assignment, with zero points given to other team members. No exceptions will be made to this rule.**\n",
    "\n",
    "Intructions:\n",
    "- **Code and test the indicated algorithms.**\n",
    "- **For the DFS and BFS algorithms you must implement them using the provided Graph code using an Undirected graph**\n"
   ]
  },
  {
   "cell_type": "markdown",
   "id": "bb474b61",
   "metadata": {},
   "source": [
    "### N-Queen problem"
   ]
  },
  {
   "cell_type": "code",
   "execution_count": null,
   "id": "788c0877",
   "metadata": {},
   "outputs": [],
   "source": []
  },
  {
   "cell_type": "markdown",
   "id": "736962ef",
   "metadata": {},
   "source": [
    "### Graphs "
   ]
  },
  {
   "cell_type": "code",
   "execution_count": 1,
   "id": "984ea827",
   "metadata": {},
   "outputs": [],
   "source": [
    "class Directed_graph:\n",
    "    def __init__(self):\n",
    "        self.graph_dict = {}\n",
    "    \n",
    "    def add_vertex(self, vertex):\n",
    "        if vertex in self.graph_dict: \n",
    "            return 'Vertex already in Graph'\n",
    "        self.graph_dict[vertex] = []\n",
    "    \n",
    "    def add_edge(self, edge):\n",
    "        u = edge.get_u()\n",
    "        v = edge.get_v()\n",
    "        if u not in self.graph_dict:\n",
    "            raise ValueError(f'Vertex {u.get_name()} not in graph')\n",
    "        if v not in self.graph_dict:\n",
    "            raise ValueError(f'Vertex {v.get_name()} not in graph')\n",
    "        \n",
    "        self.graph_dict[u].append(v)\n",
    "    \n",
    "    def neighbours(self, vertex):\n",
    "        return self.graph_dict[vertex]\n",
    "    \n",
    "    def is_vertex_in(self, vertex):\n",
    "        return vertex in self.graph_dict\n",
    "    \n",
    "    def get_vertex(self, vertex_name):\n",
    "        for u in self.graph_dict:\n",
    "            if u.get_name() == vertex_name:\n",
    "                return u\n",
    "        print(f'Vertex {vertex_name} not in graph')\n",
    "        \n",
    "    def __str__(self):\n",
    "        all_edges = ''\n",
    "        for u in self.graph_dict:\n",
    "            for v in self.graph_dict[u]:\n",
    "                all_edges += u.get_name() + \" ----> \" + v.get_name() + '\\n'\n",
    "        \n",
    "        return all_edges"
   ]
  },
  {
   "cell_type": "code",
   "execution_count": 2,
   "id": "ef8f360e",
   "metadata": {},
   "outputs": [],
   "source": [
    "class Edge:\n",
    "    def __init__(self, u, v):\n",
    "        self.u = u\n",
    "        self.v = v\n",
    "    \n",
    "    def get_u(self):\n",
    "        return self.u\n",
    "    \n",
    "    def get_v(self):\n",
    "        return self.v\n",
    "    \n",
    "    def __str__(self):\n",
    "        return self.u.get_name() + ' ----> ' + self.v.get_name()\n",
    "    \n",
    "class Undirected_Graph(Directed_graph):\n",
    "    # To Do\n",
    "    def add_edge(self, edge):\n",
    "        pass"
   ]
  },
  {
   "cell_type": "code",
   "execution_count": 3,
   "id": "dbc7302a",
   "metadata": {},
   "outputs": [],
   "source": [
    "class Vertex:\n",
    "    def __init__(self, name):\n",
    "        self.name = name\n",
    "    \n",
    "    def get_name(self):\n",
    "        return self.name\n",
    "    \n",
    "    def __str__(self):\n",
    "        return self.name"
   ]
  },
  {
   "cell_type": "code",
   "execution_count": 21,
   "id": "b92d126e",
   "metadata": {},
   "outputs": [],
   "source": [
    "def build_graph(graph):\n",
    "    G = graph()\n",
    "    for name in ('Queretaro', 'Toluca', 'Pachuca', 'Monterrey', 'Guadalajara',\n",
    "                'Gotham City', 'Mexico City', 'Star City', 'Dallas'):\n",
    "        G.add_vertex(Vertex(name))\n",
    "    \n",
    "    G.add_edge(Edge(G.get_vertex('Queretaro'), G.get_vertex('Gotham City')))\n",
    "    G.add_edge(Edge(G.get_vertex('Queretaro'), G.get_vertex('Dallas')))\n",
    "    G.add_edge(Edge(G.get_vertex('Dallas'), G.get_vertex('Star City')))\n",
    "    \n",
    "    return G"
   ]
  },
  {
   "cell_type": "code",
   "execution_count": 22,
   "id": "1035d6bc",
   "metadata": {},
   "outputs": [],
   "source": [
    "G = build_graph(Directed_graph)"
   ]
  },
  {
   "cell_type": "code",
   "execution_count": 23,
   "id": "eb461275",
   "metadata": {},
   "outputs": [
    {
     "name": "stdout",
     "output_type": "stream",
     "text": [
      "Queretaro ----> Gotham City\n",
      "Queretaro ----> Dallas\n",
      "Dallas ----> Star City\n",
      "\n"
     ]
    }
   ],
   "source": [
    "print(G)"
   ]
  },
  {
   "cell_type": "markdown",
   "id": "9ccde32c",
   "metadata": {},
   "source": [
    "### DFS "
   ]
  },
  {
   "cell_type": "code",
   "execution_count": null,
   "id": "4923acdc",
   "metadata": {},
   "outputs": [],
   "source": []
  },
  {
   "cell_type": "markdown",
   "id": "6802a433",
   "metadata": {},
   "source": [
    "### BFS"
   ]
  },
  {
   "cell_type": "code",
   "execution_count": null,
   "id": "55a7c865",
   "metadata": {},
   "outputs": [],
   "source": []
  }
 ],
 "metadata": {
  "kernelspec": {
   "display_name": "Python 3 (ipykernel)",
   "language": "python",
   "name": "python3"
  },
  "language_info": {
   "codemirror_mode": {
    "name": "ipython",
    "version": 3
   },
   "file_extension": ".py",
   "mimetype": "text/x-python",
   "name": "python",
   "nbconvert_exporter": "python",
   "pygments_lexer": "ipython3",
   "version": "3.9.0"
  },
  "varInspector": {
   "cols": {
    "lenName": 16,
    "lenType": 16,
    "lenVar": 40
   },
   "kernels_config": {
    "python": {
     "delete_cmd_postfix": "",
     "delete_cmd_prefix": "del ",
     "library": "var_list.py",
     "varRefreshCmd": "print(var_dic_list())"
    },
    "r": {
     "delete_cmd_postfix": ") ",
     "delete_cmd_prefix": "rm(",
     "library": "var_list.r",
     "varRefreshCmd": "cat(var_dic_list()) "
    }
   },
   "types_to_exclude": [
    "module",
    "function",
    "builtin_function_or_method",
    "instance",
    "_Feature"
   ],
   "window_display": false
  }
 },
 "nbformat": 4,
 "nbformat_minor": 5
}
